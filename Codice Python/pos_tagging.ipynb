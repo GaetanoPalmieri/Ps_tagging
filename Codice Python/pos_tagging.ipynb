{
 "cells": [
  {
   "cell_type": "code",
   "execution_count": 35,
   "outputs": [
    {
     "name": "stderr",
     "output_type": "stream",
     "text": [
      "[nltk_data] Downloading package treebank to\n",
      "[nltk_data]     /Users/gaetanopalmieri/nltk_data...\n",
      "[nltk_data]   Package treebank is already up-to-date!\n",
      "[nltk_data] Downloading package universal_tagset to\n",
      "[nltk_data]     /Users/gaetanopalmieri/nltk_data...\n",
      "[nltk_data]   Package universal_tagset is already up-to-date!\n"
     ]
    }
   ],
   "source": [
    "import nltk\n",
    "\n",
    "import numpy as np\n",
    "import pandas as pd\n",
    "import random\n",
    "from sklearn.model_selection import train_test_split\n",
    "import pprint, time\n",
    "\n",
    "#Il dataset che si prende in esame è \"Treebank Corpus\" dalla libreria nltk.\n",
    "nltk.download('treebank')\n",
    "nltk.download('universal_tagset')\n",
    "nltk_data = list(nltk.corpus.treebank.tagged_sents(tagset='universal'))"
   ],
   "metadata": {
    "collapsed": false,
    "pycharm": {
     "name": "#%%\n"
    }
   }
  },
  {
   "cell_type": "code",
   "execution_count": 36,
   "outputs": [
    {
     "name": "stdout",
     "output_type": "stream",
     "text": [
      "[[('Pierre', 'NOUN'), ('Vinken', 'NOUN'), (',', '.'), ('61', 'NUM'), ('years', 'NOUN'), ('old', 'ADJ'), (',', '.'), ('will', 'VERB'), ('join', 'VERB'), ('the', 'DET'), ('board', 'NOUN'), ('as', 'ADP'), ('a', 'DET'), ('nonexecutive', 'ADJ'), ('director', 'NOUN'), ('Nov.', 'NOUN'), ('29', 'NUM'), ('.', '.')], [('Mr.', 'NOUN'), ('Vinken', 'NOUN'), ('is', 'VERB'), ('chairman', 'NOUN'), ('of', 'ADP'), ('Elsevier', 'NOUN'), ('N.V.', 'NOUN'), (',', '.'), ('the', 'DET'), ('Dutch', 'NOUN'), ('publishing', 'VERB'), ('group', 'NOUN'), ('.', '.')]]\n"
     ]
    }
   ],
   "source": [
    "# Stampo per esempio le prime 2 frasi con i tags\n",
    "print(nltk_data[:2])"
   ],
   "metadata": {
    "collapsed": false,
    "pycharm": {
     "name": "#%%\n"
    }
   }
  },
  {
   "cell_type": "code",
   "execution_count": 37,
   "outputs": [
    {
     "name": "stdout",
     "output_type": "stream",
     "text": [
      "('Pierre', 'NOUN')\n",
      "('Vinken', 'NOUN')\n",
      "(',', '.')\n",
      "('61', 'NUM')\n",
      "('years', 'NOUN')\n",
      "('old', 'ADJ')\n",
      "(',', '.')\n",
      "('will', 'VERB')\n",
      "('join', 'VERB')\n",
      "('the', 'DET')\n",
      "('board', 'NOUN')\n",
      "('as', 'ADP')\n",
      "('a', 'DET')\n",
      "('nonexecutive', 'ADJ')\n",
      "('director', 'NOUN')\n",
      "('Nov.', 'NOUN')\n",
      "('29', 'NUM')\n",
      "('.', '.')\n",
      "('Mr.', 'NOUN')\n",
      "('Vinken', 'NOUN')\n",
      "('is', 'VERB')\n",
      "('chairman', 'NOUN')\n",
      "('of', 'ADP')\n",
      "('Elsevier', 'NOUN')\n",
      "('N.V.', 'NOUN')\n",
      "(',', '.')\n",
      "('the', 'DET')\n",
      "('Dutch', 'NOUN')\n",
      "('publishing', 'VERB')\n",
      "('group', 'NOUN')\n",
      "('.', '.')\n"
     ]
    }
   ],
   "source": [
    "# Stampo ogni paraole con i suoi rispettivi tag per le prime 2 frasi\n",
    "for sent in nltk_data[:2]:\n",
    "  for tuple in sent:\n",
    "    print(tuple)"
   ],
   "metadata": {
    "collapsed": false,
    "pycharm": {
     "name": "#%%\n"
    }
   }
  },
  {
   "cell_type": "code",
   "execution_count": 38,
   "outputs": [],
   "source": [
    "# Split in train e test set con in rapporto 80:20\n",
    "train_set,test_set =train_test_split(nltk_data,train_size=0.80,test_size=0.20)"
   ],
   "metadata": {
    "collapsed": false,
    "pycharm": {
     "name": "#%%\n"
    }
   }
  },
  {
   "cell_type": "code",
   "execution_count": 39,
   "outputs": [
    {
     "name": "stdout",
     "output_type": "stream",
     "text": [
      "80396\n",
      "20280\n"
     ]
    }
   ],
   "source": [
    "# Creo la lista di train e test delle tagged words\n",
    "train_tagged_words = [ tup for sent in train_set for tup in sent ]\n",
    "test_tagged_words = [ tup for sent in test_set for tup in sent ]\n",
    "print(len(train_tagged_words))\n",
    "print(len(test_tagged_words))"
   ],
   "metadata": {
    "collapsed": false,
    "pycharm": {
     "name": "#%%\n"
    }
   }
  },
  {
   "cell_type": "code",
   "execution_count": 40,
   "outputs": [
    {
     "data": {
      "text/plain": "[('Tokyu', 'NOUN'),\n ('Group', 'NOUN'),\n (',', '.'),\n ('Mitsubishi', 'NOUN'),\n ('Estate', 'NOUN')]"
     },
     "execution_count": 40,
     "metadata": {},
     "output_type": "execute_result"
    }
   ],
   "source": [
    "# check del risultato per le prime 5\n",
    "train_tagged_words[:5]"
   ],
   "metadata": {
    "collapsed": false,
    "pycharm": {
     "name": "#%%\n"
    }
   }
  },
  {
   "cell_type": "code",
   "execution_count": 41,
   "outputs": [
    {
     "name": "stdout",
     "output_type": "stream",
     "text": [
      "12\n",
      "{'CONJ', 'VERB', 'PRT', 'ADV', 'NUM', 'ADJ', 'ADP', '.', 'X', 'PRON', 'DET', 'NOUN'}\n"
     ]
    }
   ],
   "source": [
    "#Controllo quanti tag univoci ci sono nei dati di train\n",
    "tags = {tag for word,tag in train_tagged_words}\n",
    "print(len(tags))\n",
    "print(tags)\n",
    "# Tutte le parole del vocabolario\n",
    "vocab = {word for word,tag in train_tagged_words}"
   ],
   "metadata": {
    "collapsed": false,
    "pycharm": {
     "name": "#%%\n"
    }
   }
  },
  {
   "cell_type": "code",
   "execution_count": 42,
   "outputs": [],
   "source": [
    "# Calcolo le probabilità di emissione\n",
    "def word_given_tag(word, tag, train_bag = train_tagged_words):\n",
    "    tag_list = [pair for pair in train_bag if pair[1]==tag]\n",
    "    count_tag = len(tag_list) # numero totale di volte che il tag i-esimo occorre\n",
    "    w_given_tag_list = [pair[0] for pair in tag_list if pair[0]==word]\n",
    "    #Calcolo il numero totale di volte che la parola i-esima occorre come tag corrente.\n",
    "    count_w_given_tag = len(w_given_tag_list)\n",
    "    return (count_w_given_tag, count_tag)"
   ],
   "metadata": {
    "collapsed": false,
    "pycharm": {
     "name": "#%%\n"
    }
   }
  },
  {
   "cell_type": "code",
   "execution_count": 43,
   "outputs": [],
   "source": [
    "# Calcolo le probabilità di transizione\n",
    "def t2_given_t1(t2, t1, train_bag = train_tagged_words):\n",
    "    tags = [pair[1] for pair in train_bag]\n",
    "    count_t1 = len([t for t in tags if t==t1])\n",
    "    count_t2_t1 = 0\n",
    "    for index in range(len(tags)-1):\n",
    "        if tags[index]==t1 and tags[index+1] == t2:\n",
    "            count_t2_t1 += 1\n",
    "    return (count_t2_t1, count_t1)"
   ],
   "metadata": {
    "collapsed": false,
    "pycharm": {
     "name": "#%%\n"
    }
   }
  },
  {
   "cell_type": "code",
   "execution_count": 44,
   "outputs": [
    {
     "name": "stdout",
     "output_type": "stream",
     "text": [
      "[[5.61167253e-04 1.58249155e-01 3.92817054e-03 5.55555560e-02\n",
      "  3.92817073e-02 1.20089784e-01 5.10662161e-02 3.59147042e-02\n",
      "  9.53984261e-03 6.17283955e-02 1.17845118e-01 3.46240193e-01]\n",
      " [4.97008720e-03 1.69903353e-01 3.11090667e-02 8.10860544e-02\n",
      "  2.30096634e-02 6.35987148e-02 9.13943872e-02 3.54348831e-02\n",
      "  2.21629083e-01 3.51587683e-02 1.34284392e-01 1.08421534e-01]\n",
      " [2.73224036e-03 4.02419984e-01 7.80640112e-04 8.97736102e-03\n",
      "  5.23028895e-02 8.23575333e-02 2.10772827e-02 4.56674471e-02\n",
      "  1.32708820e-02 1.79547220e-02 1.02654174e-01 2.49804839e-01]\n",
      " [6.73534069e-03 3.47068131e-01 1.62440576e-02 7.64659271e-02\n",
      "  3.16957198e-02 1.24405704e-01 1.17670365e-01 1.40253559e-01\n",
      "  2.21870039e-02 1.50554674e-02 7.29001611e-02 2.93185413e-02]\n",
      " [1.36249550e-02 1.93617791e-02 2.58157048e-02 3.58551461e-03\n",
      "  1.85371101e-01 3.33452858e-02 3.47794890e-02 1.16170667e-01\n",
      "  2.14413762e-01 1.43420580e-03 2.86841160e-03 3.49229127e-01]\n",
      " [1.54028432e-02 1.26382308e-02 1.14533966e-02 4.93680872e-03\n",
      "  2.17219591e-02 6.87203780e-02 7.81990513e-02 6.22037910e-02\n",
      "  2.17219591e-02 5.92417084e-04 4.93680872e-03 6.97472334e-01]\n",
      " [8.83392233e-04 7.82433152e-03 1.38818775e-03 1.21150929e-02\n",
      "  6.20898530e-02 1.06385663e-01 1.65320542e-02 4.16456349e-02\n",
      "  3.58404852e-02 6.95355907e-02 3.21302384e-01 3.24457347e-01]\n",
      " [5.73717952e-02 8.82478654e-02 2.35042744e-03 5.55555560e-02\n",
      "  7.95940161e-02 4.38034199e-02 9.04914513e-02 9.60470065e-02\n",
      "  2.66025644e-02 6.73076957e-02 1.71474352e-01 2.21047014e-01]\n",
      " [1.03675779e-02 2.02073514e-01 1.85296893e-01 2.50706878e-02\n",
      "  1.69651269e-03 1.58341192e-02 1.47031099e-01 1.61357209e-01\n",
      "  7.55890682e-02 5.44769093e-02 5.59849180e-02 6.52214885e-02]\n",
      " [5.89836668e-03 4.88656998e-01 1.17967334e-02 3.44827585e-02\n",
      "  8.16696882e-03 7.53176063e-02 2.13248637e-02 3.94736826e-02\n",
      "  8.80217776e-02 6.80580782e-03 8.16696882e-03 2.11887479e-01]\n",
      " [4.31344350e-04 4.01150249e-02 2.87562900e-04 1.23652052e-02\n",
      "  2.25736871e-02 2.03019410e-01 8.48310534e-03 1.75413378e-02\n",
      "  4.48598117e-02 3.59453633e-03 5.89503953e-03 6.40833914e-01]\n",
      " [4.21472564e-02 1.47255227e-01 4.33613732e-02 1.65640451e-02\n",
      "  8.97580478e-03 1.20544620e-02 1.79169193e-01 2.38791078e-01\n",
      "  2.78380010e-02 4.81311232e-03 1.29650505e-02 2.66065389e-01]]\n"
     ]
    }
   ],
   "source": [
    "# Creo la matrice di trasizione dei tags t x t, dove t è il numero di tags\n",
    "# L'elemento (i,j) della matrice rappresenta P(j-esimo tag dopo l'i-esimo tag)\n",
    "\n",
    "tags_matrix = np.zeros((len(tags), len(tags)), dtype='float32')\n",
    "for i, t1 in enumerate(list(tags)):\n",
    "    for j, t2 in enumerate(list(tags)):\n",
    "        tags_matrix[i, j] = t2_given_t1(t2, t1)[0]/t2_given_t1(t2, t1)[1]\n",
    "print(tags_matrix)"
   ],
   "metadata": {
    "collapsed": false,
    "pycharm": {
     "name": "#%%\n"
    }
   }
  },
  {
   "cell_type": "code",
   "execution_count": 45,
   "outputs": [
    {
     "name": "stdout",
     "output_type": "stream",
     "text": [
      "          CONJ      VERB       PRT       ADV       NUM       ADJ       ADP  \\\n",
      "CONJ  0.000561  0.158249  0.003928  0.055556  0.039282  0.120090  0.051066   \n",
      "VERB  0.004970  0.169903  0.031109  0.081086  0.023010  0.063599  0.091394   \n",
      "PRT   0.002732  0.402420  0.000781  0.008977  0.052303  0.082358  0.021077   \n",
      "ADV   0.006735  0.347068  0.016244  0.076466  0.031696  0.124406  0.117670   \n",
      "NUM   0.013625  0.019362  0.025816  0.003586  0.185371  0.033345  0.034779   \n",
      "ADJ   0.015403  0.012638  0.011453  0.004937  0.021722  0.068720  0.078199   \n",
      "ADP   0.000883  0.007824  0.001388  0.012115  0.062090  0.106386  0.016532   \n",
      ".     0.057372  0.088248  0.002350  0.055556  0.079594  0.043803  0.090491   \n",
      "X     0.010368  0.202074  0.185297  0.025071  0.001697  0.015834  0.147031   \n",
      "PRON  0.005898  0.488657  0.011797  0.034483  0.008167  0.075318  0.021325   \n",
      "DET   0.000431  0.040115  0.000288  0.012365  0.022574  0.203019  0.008483   \n",
      "NOUN  0.042147  0.147255  0.043361  0.016564  0.008976  0.012054  0.179169   \n",
      "\n",
      "             .         X      PRON       DET      NOUN  \n",
      "CONJ  0.035915  0.009540  0.061728  0.117845  0.346240  \n",
      "VERB  0.035435  0.221629  0.035159  0.134284  0.108422  \n",
      "PRT   0.045667  0.013271  0.017955  0.102654  0.249805  \n",
      "ADV   0.140254  0.022187  0.015055  0.072900  0.029319  \n",
      "NUM   0.116171  0.214414  0.001434  0.002868  0.349229  \n",
      "ADJ   0.062204  0.021722  0.000592  0.004937  0.697472  \n",
      "ADP   0.041646  0.035840  0.069536  0.321302  0.324457  \n",
      ".     0.096047  0.026603  0.067308  0.171474  0.221047  \n",
      "X     0.161357  0.075589  0.054477  0.055985  0.065221  \n",
      "PRON  0.039474  0.088022  0.006806  0.008167  0.211887  \n",
      "DET   0.017541  0.044860  0.003595  0.005895  0.640834  \n",
      "NOUN  0.238791  0.027838  0.004813  0.012965  0.266065  \n"
     ]
    }
   ],
   "source": [
    "# Converto la matrice in df per miglior leggibilità\n",
    "# La tabella è la stessa di quella mostrata nel pdf riferito al POS TAG\n",
    "tags_df = pd.DataFrame(tags_matrix, columns = list(tags), index=list(tags))\n",
    "print(tags_df)"
   ],
   "metadata": {
    "collapsed": false,
    "pycharm": {
     "name": "#%%\n"
    }
   }
  },
  {
   "cell_type": "code",
   "execution_count": 24,
   "outputs": [],
   "source": [
    "def Viterbi(words, train_bag = train_tagged_words):\n",
    "    state = []\n",
    "    T = list(set([pair[1] for pair in train_bag]))\n",
    "\n",
    "    for key, word in enumerate(words):\n",
    "        # Inizializzo la lista delle colonne di probabilità per una data osservazione\n",
    "        p = []\n",
    "        for tag in T:\n",
    "            if key == 0:\n",
    "                transition_p = tags_df.loc['.', tag]\n",
    "            else:\n",
    "                transition_p = tags_df.loc[state[-1], tag]\n",
    "            # Calcolo probabilità di emissione e di stato\n",
    "            emission_p = word_given_tag(words[key], tag)[0]/word_given_tag(words[key], tag)[1]\n",
    "            state_probability = emission_p * transition_p\n",
    "            p.append(state_probability)\n",
    "\n",
    "        pmax = max(p)\n",
    "        # ritorno lo stato per il quale ogni probabilità è la massima in quello stato\n",
    "        state_max = T[p.index(pmax)]\n",
    "        state.append(state_max)\n",
    "    return list(zip(words, state))"
   ],
   "metadata": {
    "collapsed": false,
    "pycharm": {
     "name": "#%%\n"
    }
   }
  },
  {
   "cell_type": "code",
   "execution_count": 25,
   "outputs": [],
   "source": [
    "# Testo l'algoritmo di Viterbo su un sott'insieme di frasi del dataset di test\n",
    "random.seed(1234) # Definisco un random seed per avere qualche frase diversi su run multipli\n",
    "# Scelgo in modo random 10 numeri\n",
    "rndom = [random.randint(1,len(test_set)) for x in range(10)]\n",
    "# Lista delle 10 frasi random sulle quali testare\n",
    "test_run = [test_set[i] for i in rndom]\n",
    "# Lista delle tagged words\n",
    "test_run_base = [tup for sent in test_run for tup in sent]\n",
    "# Lista delle untagged words\n",
    "test_tagged_words = [tup[0] for sent in test_run for tup in sent]"
   ],
   "metadata": {
    "collapsed": false,
    "pycharm": {
     "name": "#%%\n"
    }
   }
  },
  {
   "cell_type": "code",
   "execution_count": 26,
   "outputs": [
    {
     "name": "stdout",
     "output_type": "stream",
     "text": [
      "Tempo impiegato:  34.76898694038391\n",
      "Viterbi Algorithm Accuracy:  91.01123595505618\n"
     ]
    }
   ],
   "source": [
    "# Vado a testare sole 10 frasi per osservarne l'accuratezza in quanto tutto il test ci impiega molto tempo(dopo comunque lo si farà)\n",
    "start = time.time()\n",
    "tagged_seq = Viterbi(test_tagged_words)\n",
    "end = time.time()\n",
    "difference = end-start\n",
    "\n",
    "print(\"Tempo impiegato: \", difference)\n",
    "check = [i for i, j in zip(tagged_seq, test_run_base) if i == j]\n",
    "accuracy = len(check)/len(tagged_seq)\n",
    "print('Viterbi Algorithm Accuracy: ',accuracy*100)"
   ],
   "metadata": {
    "collapsed": false,
    "pycharm": {
     "name": "#%%\n"
    }
   }
  },
  {
   "cell_type": "markdown",
   "source": [
    "### Codice per testare tutte le frasi"
   ],
   "metadata": {
    "collapsed": false,
    "pycharm": {
     "name": "#%% md\n"
    }
   }
  },
  {
   "cell_type": "code",
   "execution_count": 27,
   "outputs": [
    {
     "name": "stdout",
     "output_type": "stream",
     "text": [
      "Tempo impiegato:  2587.7308809757233\n",
      "Viterbi Algorithm Accuracy:  0.0\n"
     ]
    }
   ],
   "source": [
    "test_tagged_words = [tup for sent in test_set for tup in sent]\n",
    "test_untagged_words = [tup[0] for sent in test_set for tup in sent]\n",
    "start = time.time()\n",
    "tagged_seq = Viterbi(test_untagged_words)\n",
    "end = time.time()\n",
    "difference = end-start\n",
    "print(\"Tempo impiegato: \", difference)\n",
    "check = [i for i, j in zip(test_tagged_words, test_untagged_words) if i == j]\n",
    "accuracy = len(check)/len(tagged_seq)\n",
    "print('Viterbi Algorithm Accuracy: ',accuracy*100)"
   ],
   "metadata": {
    "collapsed": false,
    "pycharm": {
     "name": "#%%\n"
    }
   }
  },
  {
   "cell_type": "code",
   "execution_count": 46,
   "outputs": [],
   "source": [
    "# Per migliorare le prestazioni viene specificato un Tagger rule-based per parole non conosciute specificando i patterns per il tagging\n",
    "patterns = [\n",
    "    (r'.*ing$', 'VERB'),              # Gerundio\n",
    "    (r'.*ed$', 'VERB'),               # Past tense in inglese\n",
    "    (r'.*es$', 'VERB'),               # Verbo\n",
    "    (r'.*\\'s$', 'NOUN'),              # Nome possessivo\n",
    "    (r'.*s$', 'NOUN'),                # Nome plurale\n",
    "    (r'\\*T?\\*?-[0-9]+$', 'X'),        # X\n",
    "    (r'^-?[0-9]+(.[0-9]+)?$', 'NUM'), # Numeri cardinali\n",
    "    (r'.*', 'NOUN')                   # Nome\n",
    "]\n",
    "\n",
    "# rule-based Tagger\n",
    "rule_based_tagger = nltk.RegexpTagger(patterns)"
   ],
   "metadata": {
    "collapsed": false,
    "pycharm": {
     "name": "#%%\n"
    }
   }
  },
  {
   "cell_type": "code",
   "execution_count": 47,
   "outputs": [],
   "source": [
    "#Modifica di Viterbi per includere il tagger rule-based\n",
    "def Viterbi_rule_based(words, train_bag = train_tagged_words):\n",
    "    state = []\n",
    "    T = list(set([pair[1] for pair in train_bag]))\n",
    "\n",
    "    for key, word in enumerate(words):\n",
    "        #Inizializzo la lista delle probabilità per una data osservazione\n",
    "        p = []\n",
    "        for tag in T:\n",
    "            if key == 0:\n",
    "                transition_p = tags_df.loc['.', tag]\n",
    "            else:\n",
    "                transition_p = tags_df.loc[state[-1], tag]\n",
    "\n",
    "            # Computo proba di emissione e transizione\n",
    "            emission_p = word_given_tag(words[key], tag)[0]/word_given_tag(words[key], tag)[1]\n",
    "            state_probability = emission_p * transition_p\n",
    "            p.append(state_probability)\n",
    "        pmax = max(p)\n",
    "        state_max = rule_based_tagger.tag([word])[0][1]\n",
    "        if(pmax==0):\n",
    "            state_max = rule_based_tagger.tag([word])[0][1]\n",
    "        else:\n",
    "            if state_max != 'X':\n",
    "                # Ritorno lo stato per il quale la probabilità è MAX\n",
    "                state_max = T[p.index(pmax)]\n",
    "\n",
    "        state.append(state_max)\n",
    "    return list(zip(words, state))"
   ],
   "metadata": {
    "collapsed": false,
    "pycharm": {
     "name": "#%%\n"
    }
   }
  },
  {
   "cell_type": "code",
   "execution_count": null,
   "outputs": [],
   "source": [
    "#Testo l'accuratezza su un subset del test set di partenza\n",
    "start = time.time()\n",
    "tagged_seq = Viterbi_rule_based(test_tagged_words)\n",
    "end = time.time()\n",
    "difference = end-start\n",
    "\n",
    "print(\"Tempo impiegato in secondi: \", difference)\n",
    "\n",
    "# accuracy\n",
    "check = [i for i, j in zip(tagged_seq, test_run_base) if i == j]\n",
    "\n",
    "accuracy = len(check)/len(tagged_seq)\n",
    "print('Viterbi Algorithm Accuracy: ',accuracy*100)"
   ],
   "metadata": {
    "collapsed": false,
    "pycharm": {
     "name": "#%%\n",
     "is_executing": true
    }
   }
  },
  {
   "cell_type": "code",
   "execution_count": null,
   "outputs": [],
   "source": [
    "#Check di valutazione sulla stessa frase per Viterbi e Viterbi rule-based\n",
    "test_sent=\"Will can see Marry\"\n",
    "pred_tags_rule=Viterbi_rule_based(test_sent.split())\n",
    "pred_tags_withoutRules= Viterbi(test_sent.split())\n",
    "print(pred_tags_rule)\n",
    "print(pred_tags_withoutRules)\n",
    "# Will e Mary vengono etichettati come NOME e risultati non conosciute dall'algoritmo di Viterbi."
   ],
   "metadata": {
    "collapsed": false,
    "pycharm": {
     "name": "#%%\n"
    }
   }
  },
  {
   "cell_type": "code",
   "execution_count": null,
   "outputs": [],
   "source": [],
   "metadata": {
    "collapsed": false,
    "pycharm": {
     "name": "#%%\n"
    }
   }
  }
 ],
 "metadata": {
  "kernelspec": {
   "display_name": "Python 3",
   "language": "python",
   "name": "python3"
  },
  "language_info": {
   "codemirror_mode": {
    "name": "ipython",
    "version": 2
   },
   "file_extension": ".py",
   "mimetype": "text/x-python",
   "name": "python",
   "nbconvert_exporter": "python",
   "pygments_lexer": "ipython2",
   "version": "2.7.6"
  }
 },
 "nbformat": 4,
 "nbformat_minor": 0
}